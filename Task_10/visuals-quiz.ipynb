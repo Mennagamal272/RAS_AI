{
 "cells": [
  {
   "cell_type": "markdown",
   "metadata": {},
   "source": [
    "# Exploring Data with Visuals Quiz\n",
    "Use the space below to explore `powerplant_data_edited.csv` to answer the quiz questions below."
   ]
  },
  {
   "cell_type": "code",
   "execution_count": null,
   "metadata": {},
   "outputs": [],
   "source": [
    "# Do your analysis and answer the following (use plots) (type your answers, do not just code stuff and runaway):\n",
    "\n",
    "# What is the relationship between temperature and electrical output?\n",
    "# A. Positive B. Negative C. No correlation\n",
    "   # No correlation ,it is sometimes positive and sometimes negative.\n",
    "# Does the humidity variable appear to be normally distributed, if not, what is the ditribution?\n",
    "   # No ,it is left skewed\n",
    "# Which variable appears to have the most outliers (plot all variables to answer this)?\n",
    "# humidity then pressure"
   ]
  },
  {
   "cell_type": "code",
   "execution_count": null,
   "metadata": {
    "scrolled": false
   },
   "outputs": [],
   "source": [
    "# import and load the data\n",
    "import pandas as pd\n",
    "df = pd.read_csv('powerplant_data_edited.csv')"
   ]
  },
  {
   "cell_type": "code",
   "execution_count": null,
   "metadata": {},
   "outputs": [],
   "source": [
    "# explore the data\n",
    "df.info()\n",
    "df.head()\n",
    "df.shape\n",
    "df.columns\n",
    "df.describe()"
   ]
  },
  {
   "cell_type": "code",
   "execution_count": null,
   "metadata": {
    "scrolled": true
   },
   "outputs": [],
   "source": [
    "# clean the data (check for any possible problem and fix it) there are no null values but there are duplicates\n",
    "df.drop_duplicates(inplace=True)"
   ]
  },
  {
   "cell_type": "code",
   "execution_count": null,
   "metadata": {},
   "outputs": [],
   "source": [
    "# plot the relationship between temperature and electrical output\n",
    "axes = df['temperature'].plot.line()\n",
    "type(axes)\n",
    "\n",
    "# what is the relationship between the temp and the enery_output (type your answer)?: No correlation ,it is sometimes positive and sometimes negative."
   ]
  },
  {
   "cell_type": "code",
   "execution_count": null,
   "metadata": {},
   "outputs": [],
   "source": [
    "# plot the distribution of humidity\n",
    "df['humidity'].hist()\n",
    "# what does the distribution look like ? : left skewed"
   ]
  },
  {
   "cell_type": "code",
   "execution_count": null,
   "metadata": {
    "scrolled": true
   },
   "outputs": [],
   "source": [
    "# plot box plots for each variable\n",
    "df.plot.box() or df.boxplot()\n",
    "# type the variable name here: humidity"
   ]
  }
 ],
 "metadata": {
  "kernelspec": {
   "display_name": "Python 3 (ipykernel)",
   "language": "python",
   "name": "python3"
  },
  "language_info": {
   "codemirror_mode": {
    "name": "ipython",
    "version": 3
   },
   "file_extension": ".py",
   "mimetype": "text/x-python",
   "name": "python",
   "nbconvert_exporter": "python",
   "pygments_lexer": "ipython3",
   "version": "3.10.4"
  }
 },
 "nbformat": 4,
 "nbformat_minor": 2
}
