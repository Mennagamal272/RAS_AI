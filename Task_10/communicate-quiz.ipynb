{
 "cells": [
  {
   "attachments": {},
   "cell_type": "markdown",
   "metadata": {},
   "source": [
    "# Communicating Results Quiz\n",
    "Now let's answer the same questions found in \"Drawing Conclusions Quiz\" using visualizations.\\\n",
    "Using the grocery store dataset `store_data.csv` , create plots with appropriate labeling, colors and size to communicate the results of the following questions.\n",
    "\n",
    "Which store has the highest total sales for the last month?\\storeA\n",
    "Which store makes the most sales on average?\\storeB\n",
    "Which store sells the most during the week of March 13th, 2016?\\storeD\n",
    "Which store has the most sales in the latest 3-month period?\\storeA\n",
    "Which store is the most consistent ? (important) storeD\n"
   ]
  },
  {
   "cell_type": "code",
   "execution_count": null,
   "metadata": {
    "scrolled": true
   },
   "outputs": [],
   "source": [
    "# import and load the data\n",
    "import pandas as pd\n",
    "import matplotlib.pyplot as plt\n",
    "df = pd.read_csv('store_data.csv')"
   ]
  },
  {
   "cell_type": "code",
   "execution_count": null,
   "metadata": {},
   "outputs": [],
   "source": [
    "# explore the data (use plots only)\n",
    "df.hist()\n",
    "df.plot.line()\n",
    "df.plot.bar()\n",
    "df.plot.box()\n"
   ]
  },
  {
   "cell_type": "code",
   "execution_count": null,
   "metadata": {},
   "outputs": [],
   "source": [
    "# plot sales for the last month\n",
    "df.iloc[df.shape[0]-4:].sum()[1:].plot.bar()\n"
   ]
  },
  {
   "cell_type": "code",
   "execution_count": null,
   "metadata": {},
   "outputs": [],
   "source": [
    "# plot average sales\n",
    "print(df.mean().plot.bar())"
   ]
  },
  {
   "cell_type": "code",
   "execution_count": null,
   "metadata": {},
   "outputs": [],
   "source": [
    "# plot sales for the week of March 13th, 2016\n",
    "print(df[df['week'] == '2016-03-13'].plot.bar()) \n"
   ]
  },
  {
   "cell_type": "code",
   "execution_count": null,
   "metadata": {
    "scrolled": true
   },
   "outputs": [],
   "source": [
    "# plot sales for the lastest 3-month periods\n",
    "print(df.iloc[df.shape[0]-4*3:].sum()[1:].plot.bar())\n"
   ]
  }
 ],
 "metadata": {
  "kernelspec": {
   "display_name": "Python 3 (ipykernel)",
   "language": "python",
   "name": "python3"
  },
  "language_info": {
   "codemirror_mode": {
    "name": "ipython",
    "version": 3
   },
   "file_extension": ".py",
   "mimetype": "text/x-python",
   "name": "python",
   "nbconvert_exporter": "python",
   "pygments_lexer": "ipython3",
   "version": "3.10.4"
  }
 },
 "nbformat": 4,
 "nbformat_minor": 2
}
