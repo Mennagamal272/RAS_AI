{
 "cells": [
  {
   "cell_type": "markdown",
   "metadata": {
    "collapsed": true
   },
   "source": [
    "\n",
    "# Assessing and Building Intuition Quiz\n",
    "Use the space below to explore `census_income_data.csv` to answer the quiz questions below."
   ]
  },
  {
   "cell_type": "code",
   "execution_count": null,
   "metadata": {},
   "outputs": [],
   "source": [
    "# import pandas and read your dataset"
   ]
  },
  {
   "cell_type": "code",
   "execution_count": 3,
   "metadata": {},
   "outputs": [],
   "source": [
    "# Do your analysis and answer the following questions\n",
    "\n",
    "# How many rows are in the dataset?\n",
    "# How many columns are in this dataset?\n",
    "# What is the data type of each column in the dataset?\n",
    "# Which columns have missing values? Type the name of the columns\n",
    "# How many unique values of education are there ?\n",
    "# What is the mean age rounded to the nearest integer?\n",
    "# What is the 75th percentile of hours-per-week in this dataset?"
   ]
  },
  {
   "cell_type": "code",
   "execution_count": null,
   "metadata": {},
   "outputs": [],
   "source": [
    "import pandas as pd\n",
    "\n",
    "df= pd.read_csv(\"census_income_data.csv\")\n",
    "print(df.info)\n",
    "\n",
    "print(f\"num of rows is {df.shape[0]}\")\n",
    "print(f\"num of columns is {df.shape[1]}\")\n",
    "\n",
    "print(\"the data type of each column in the dataset is\")\n",
    "print(df.dtypes)\n",
    "\n",
    "print(\"index of columns with missing values \")\n",
    "for i in df.columns[df.isna().any()]:\n",
    " print(i)\n",
    "\n",
    "print(\"num of unique values of education is \",end=\"\")\n",
    "print(df[\"education\"].nunique())\n",
    "\n",
    "print(f\"the mean age rounded to the nearest integer is \",end=\"\")\n",
    "print((int(df[\"age\"].describe()[1].round())))\n",
    "\n",
    "print(f\"the 75th percentile of hours-per-week in this dataset is \",end=\"\")\n",
    "print((df[\"hours-per-week\"].describe()[6]))"
   ]
  }
 ],
 "metadata": {
  "kernelspec": {
   "display_name": "Python 3 (ipykernel)",
   "language": "python",
   "name": "python3"
  },
  "language_info": {
   "codemirror_mode": {
    "name": "ipython",
    "version": 3
   },
   "file_extension": ".py",
   "mimetype": "text/x-python",
   "name": "python",
   "nbconvert_exporter": "python",
   "pygments_lexer": "ipython3",
   "version": "3.10.4"
  }
 },
 "nbformat": 4,
 "nbformat_minor": 2
}
