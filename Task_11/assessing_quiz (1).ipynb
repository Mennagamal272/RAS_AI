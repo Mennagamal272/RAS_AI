{
 "cells": [
  {
   "cell_type": "markdown",
   "metadata": {},
   "source": [
    "# Assessing\n",
    "Use the space below to explore `winequality-red.csv` and `winequality-white.csv` to answer the quiz questions below."
   ]
  },
  {
   "cell_type": "code",
   "execution_count": null,
   "metadata": {},
   "outputs": [],
   "source": [
    "# Answer the following questions:\n",
    "# number of samples in each dataset?\n",
    "         #winequality-white = 4898  winequality-red = 1599\n",
    "# number of columns in each dataset? 12\n",
    "# features with missing values? \n",
    "          #no missing values in each dataset\n",
    "# duplicate rows in the white wine dataset? 937\n",
    "# number of unique values for quality in each dataset?\n",
    "         #winequality-white = 2315  winequality-red = 1459\n",
    "# mean density of the red wine dataset? 0.9967466791744841"
   ]
  },
  {
   "cell_type": "code",
   "execution_count": null,
   "metadata": {},
   "outputs": [],
   "source": [
    "import pandas as pd\n",
    "import numpy as np\n",
    "df_white = pd.read_csv('winequality-white.csv',sep = ';')\n",
    "df_red = pd.read_csv('winequality-red.csv',sep = ';')\n",
    "\n",
    "print(df_white.shape[0])\n",
    "print(df_red.shape[0])\n",
    "\n",
    "print(df_white.shape[1])\n",
    "print(df_red.shape[1])\n",
    "\n",
    "print(df_white.columns[df_white.isna().any()])\n",
    "print(df_red.columns[df_red.isna().any()])\n",
    "\n",
    "print(sum(df_white.duplicated()))\n",
    "\n",
    "print(sum(df_white.nunique()))\n",
    "print(sum(df_red.nunique()))\n",
    "\n",
    "print(df_red['density'].mean())"
   ]
  }
 ],
 "metadata": {
  "kernelspec": {
   "display_name": "Python 3 (ipykernel)",
   "language": "python",
   "name": "python3"
  },
  "language_info": {
   "codemirror_mode": {
    "name": "ipython",
    "version": 3
   },
   "file_extension": ".py",
   "mimetype": "text/x-python",
   "name": "python",
   "nbconvert_exporter": "python",
   "pygments_lexer": "ipython3",
   "version": "3.10.6"
  }
 },
 "nbformat": 4,
 "nbformat_minor": 2
}
