{
 "cells": [
  {
   "cell_type": "markdown",
   "metadata": {},
   "source": [
    "# Drawing Conclusions Using Groupby"
   ]
  },
  {
   "cell_type": "code",
   "execution_count": null,
   "metadata": {},
   "outputs": [],
   "source": [
    "# Load `winequality_edited.csv`\n",
    "import pandas as pd\n",
    "df = pd.read_csv('winequality_edited.csv')\n"
   ]
  },
  {
   "cell_type": "markdown",
   "metadata": {
    "collapsed": true
   },
   "source": [
    "### Is a certain type of wine associated with higher quality? if so, which type is better in quality ?  white ــــــــــــــــــــ "
   ]
  },
  {
   "cell_type": "code",
   "execution_count": null,
   "metadata": {
    "scrolled": true
   },
   "outputs": [],
   "source": [
    "# Find the mean quality of each wine type (red and white) with groupby\n",
    "print(df.groupby(['quality','color'],as_index= False).mean())"
   ]
  },
  {
   "cell_type": "markdown",
   "metadata": {},
   "source": [
    "### What level of acidity receives the highest average rating? low ــــــــــــــــــــــــــــــ"
   ]
  },
  {
   "cell_type": "code",
   "execution_count": null,
   "metadata": {},
   "outputs": [],
   "source": [
    "# create a column in the dataframe [acidity_levels] that tells you the levels of the acidity ['high', 'mod_high', 'medium', 'low'] according\n",
    "# to the level of pH percentiles [min, 25% , 50%, 75%, max] \n",
    "# below 25% is high ---  25% to 50% is mod_high [moderately]  --- 50% to 75% medium ---- higher than 75% is low\n",
    "# There are easier ways to do this than what you think [there is a specific pandas function for this]"
   ]
  },
  {
   "cell_type": "code",
   "execution_count": null,
   "metadata": {},
   "outputs": [],
   "source": [
    "bins = [df['pH'].min(),df['pH'].quantile(0.25),df['pH'].quantile(0.5),df['pH'].quantile(0.75),df['pH'].max()]\n",
    "labels = ['high','mod_high','medium','low']\n",
    "df['acidity_levels']=pd.cut(df['pH'],bins= bins ,labels= labels)\n",
    "\n",
    "print(df.head())"
   ]
  },
  {
   "cell_type": "code",
   "execution_count": null,
   "metadata": {},
   "outputs": [],
   "source": [
    "# Groupby the newely created acidity level column and get the mean of the quality so you can decide which acidity level\n",
    "# results in the best quality and answer the question\n",
    "print(df.groupby(['acidity_levels'],as_index= False)['quality'].mean())"
   ]
  },
  {
   "cell_type": "code",
   "execution_count": null,
   "metadata": {},
   "outputs": [],
   "source": [
    "# Save changes for the next section as \"winequality_edited.csv\" -- do not make a stupid mistake !\n",
    "df.to_csv('winequality_edited.csv',index = False)"
   ]
  }
 ],
 "metadata": {
  "kernelspec": {
   "display_name": "Python 3 (ipykernel)",
   "language": "python",
   "name": "python3"
  },
  "language_info": {
   "codemirror_mode": {
    "name": "ipython",
    "version": 3
   },
   "file_extension": ".py",
   "mimetype": "text/x-python",
   "name": "python",
   "nbconvert_exporter": "python",
   "pygments_lexer": "ipython3",
   "version": "3.10.6"
  }
 },
 "nbformat": 4,
 "nbformat_minor": 2
}
